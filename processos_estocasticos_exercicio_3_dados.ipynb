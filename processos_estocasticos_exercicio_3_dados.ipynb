{
  "nbformat": 4,
  "nbformat_minor": 0,
  "metadata": {
    "colab": {
      "name": "processos estocasticos exercicio 3 dados.ipynb",
      "provenance": [],
      "authorship_tag": "ABX9TyPV91LSeoiNRVyYqxzeboKi",
      "include_colab_link": true
    },
    "kernelspec": {
      "name": "python3",
      "display_name": "Python 3"
    },
    "language_info": {
      "name": "python"
    }
  },
  "cells": [
    {
      "cell_type": "markdown",
      "metadata": {
        "id": "view-in-github",
        "colab_type": "text"
      },
      "source": [
        "<a href=\"https://colab.research.google.com/github/bootstrap666/Estocasticos2021Exercicio1/blob/main/processos_estocasticos_exercicio_3_dados.ipynb\" target=\"_parent\"><img src=\"https://colab.research.google.com/assets/colab-badge.svg\" alt=\"Open In Colab\"/></a>"
      ]
    },
    {
      "cell_type": "markdown",
      "metadata": {
        "id": "uD2EulYN2Sum"
      },
      "source": [
        "# Um jogo de dados\n",
        "A tarefa deve ser resolvida com o auxílio de uma ferramenta computacional (google colab, matlab ou similares)\n",
        "\n",
        "Considere um jogo hipotético no qual três dados de seis faces são rolados simultaneamente e os participantes devem apostar no resultado da soma das faces voltadas para cima. Considere que os dados não são viciados. \n",
        "\n",
        "1. Descreva um espaço amostral adequado para o experimento;\n",
        "\n",
        "2. A depender do espaço amostral escolhido, descreva o espaço de eventos associados aos eventos \"A soma das faces é x\" em que x é um número inteiro entre 3 e 18;\n",
        "\n",
        "3. Associe probabilidades iguais para cada resultado do experimento. Determine as probabilidades de cada evento determinado no item anterior;\n",
        "\n",
        "4. Simule 50.000 experimentos aleatórios e produza um histograma da soma das faces encontradas para os experimentos. Compare o resultado da simulação com as probabilidades encontradas no item anterior."
      ]
    },
    {
      "cell_type": "code",
      "metadata": {
        "id": "i9OShQm9zWNH"
      },
      "source": [
        "import numpy as np\n",
        "import matplotlib.pyplot as plt\n",
        "import random\n",
        "\n",
        "nfaces = 6"
      ],
      "execution_count": 2,
      "outputs": []
    },
    {
      "cell_type": "markdown",
      "metadata": {
        "id": "NnG5ahpf2lvp"
      },
      "source": [
        "O jogo utiliza dados não-viciados portanto qualquer configuração de três faces voltadas para cima tem a mesma probabilidade. Para simplificar a associação de uma medida de probabilidade no terceiro passo, escolheu-se definir os resultados do experimento como todas as possibilidades de três faces voltadas para cima. Para isso foi utilizado uma matriz **resultados** que contém um resultado do experimento por linha detalhado com o resultado do primeiro dado na primeira coluna, o resultado do segundo dado na segunda coluna e o resultado do terceiro dado na terceira coluna.\n",
        "\n",
        "![exercicio3dados.png](data:image/png;base64,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)"
      ]
    },
    {
      "cell_type": "code",
      "metadata": {
        "colab": {
          "base_uri": "https://localhost:8080/"
        },
        "id": "v7xLSPx01A7G",
        "outputId": "f80800ff-ae7e-4deb-c08d-42588a17c37a"
      },
      "source": [
        "nresultados = nfaces*nfaces*nfaces\n",
        "\n",
        "resultados = np.zeros((nresultados,3))\n",
        "\n",
        "for i in range(1,nfaces+1):\n",
        "  for j in range(1,nfaces+1):\n",
        "    for k in range(1,nfaces+1):\n",
        "      resultados[(i-1)*nfaces**2 + (j-1)*nfaces + (k-1),0] = i\n",
        "      resultados[(i-1)*nfaces**2 + (j-1)*nfaces + (k-1),1] = j\n",
        "      resultados[(i-1)*nfaces**2 + (j-1)*nfaces + (k-1),2] = k\n",
        "print(resultados)"
      ],
      "execution_count": 3,
      "outputs": [
        {
          "output_type": "stream",
          "text": [
            "[[1. 1. 1.]\n",
            " [1. 1. 2.]\n",
            " [1. 1. 3.]\n",
            " [1. 1. 4.]\n",
            " [1. 1. 5.]\n",
            " [1. 1. 6.]\n",
            " [1. 2. 1.]\n",
            " [1. 2. 2.]\n",
            " [1. 2. 3.]\n",
            " [1. 2. 4.]\n",
            " [1. 2. 5.]\n",
            " [1. 2. 6.]\n",
            " [1. 3. 1.]\n",
            " [1. 3. 2.]\n",
            " [1. 3. 3.]\n",
            " [1. 3. 4.]\n",
            " [1. 3. 5.]\n",
            " [1. 3. 6.]\n",
            " [1. 4. 1.]\n",
            " [1. 4. 2.]\n",
            " [1. 4. 3.]\n",
            " [1. 4. 4.]\n",
            " [1. 4. 5.]\n",
            " [1. 4. 6.]\n",
            " [1. 5. 1.]\n",
            " [1. 5. 2.]\n",
            " [1. 5. 3.]\n",
            " [1. 5. 4.]\n",
            " [1. 5. 5.]\n",
            " [1. 5. 6.]\n",
            " [1. 6. 1.]\n",
            " [1. 6. 2.]\n",
            " [1. 6. 3.]\n",
            " [1. 6. 4.]\n",
            " [1. 6. 5.]\n",
            " [1. 6. 6.]\n",
            " [2. 1. 1.]\n",
            " [2. 1. 2.]\n",
            " [2. 1. 3.]\n",
            " [2. 1. 4.]\n",
            " [2. 1. 5.]\n",
            " [2. 1. 6.]\n",
            " [2. 2. 1.]\n",
            " [2. 2. 2.]\n",
            " [2. 2. 3.]\n",
            " [2. 2. 4.]\n",
            " [2. 2. 5.]\n",
            " [2. 2. 6.]\n",
            " [2. 3. 1.]\n",
            " [2. 3. 2.]\n",
            " [2. 3. 3.]\n",
            " [2. 3. 4.]\n",
            " [2. 3. 5.]\n",
            " [2. 3. 6.]\n",
            " [2. 4. 1.]\n",
            " [2. 4. 2.]\n",
            " [2. 4. 3.]\n",
            " [2. 4. 4.]\n",
            " [2. 4. 5.]\n",
            " [2. 4. 6.]\n",
            " [2. 5. 1.]\n",
            " [2. 5. 2.]\n",
            " [2. 5. 3.]\n",
            " [2. 5. 4.]\n",
            " [2. 5. 5.]\n",
            " [2. 5. 6.]\n",
            " [2. 6. 1.]\n",
            " [2. 6. 2.]\n",
            " [2. 6. 3.]\n",
            " [2. 6. 4.]\n",
            " [2. 6. 5.]\n",
            " [2. 6. 6.]\n",
            " [3. 1. 1.]\n",
            " [3. 1. 2.]\n",
            " [3. 1. 3.]\n",
            " [3. 1. 4.]\n",
            " [3. 1. 5.]\n",
            " [3. 1. 6.]\n",
            " [3. 2. 1.]\n",
            " [3. 2. 2.]\n",
            " [3. 2. 3.]\n",
            " [3. 2. 4.]\n",
            " [3. 2. 5.]\n",
            " [3. 2. 6.]\n",
            " [3. 3. 1.]\n",
            " [3. 3. 2.]\n",
            " [3. 3. 3.]\n",
            " [3. 3. 4.]\n",
            " [3. 3. 5.]\n",
            " [3. 3. 6.]\n",
            " [3. 4. 1.]\n",
            " [3. 4. 2.]\n",
            " [3. 4. 3.]\n",
            " [3. 4. 4.]\n",
            " [3. 4. 5.]\n",
            " [3. 4. 6.]\n",
            " [3. 5. 1.]\n",
            " [3. 5. 2.]\n",
            " [3. 5. 3.]\n",
            " [3. 5. 4.]\n",
            " [3. 5. 5.]\n",
            " [3. 5. 6.]\n",
            " [3. 6. 1.]\n",
            " [3. 6. 2.]\n",
            " [3. 6. 3.]\n",
            " [3. 6. 4.]\n",
            " [3. 6. 5.]\n",
            " [3. 6. 6.]\n",
            " [4. 1. 1.]\n",
            " [4. 1. 2.]\n",
            " [4. 1. 3.]\n",
            " [4. 1. 4.]\n",
            " [4. 1. 5.]\n",
            " [4. 1. 6.]\n",
            " [4. 2. 1.]\n",
            " [4. 2. 2.]\n",
            " [4. 2. 3.]\n",
            " [4. 2. 4.]\n",
            " [4. 2. 5.]\n",
            " [4. 2. 6.]\n",
            " [4. 3. 1.]\n",
            " [4. 3. 2.]\n",
            " [4. 3. 3.]\n",
            " [4. 3. 4.]\n",
            " [4. 3. 5.]\n",
            " [4. 3. 6.]\n",
            " [4. 4. 1.]\n",
            " [4. 4. 2.]\n",
            " [4. 4. 3.]\n",
            " [4. 4. 4.]\n",
            " [4. 4. 5.]\n",
            " [4. 4. 6.]\n",
            " [4. 5. 1.]\n",
            " [4. 5. 2.]\n",
            " [4. 5. 3.]\n",
            " [4. 5. 4.]\n",
            " [4. 5. 5.]\n",
            " [4. 5. 6.]\n",
            " [4. 6. 1.]\n",
            " [4. 6. 2.]\n",
            " [4. 6. 3.]\n",
            " [4. 6. 4.]\n",
            " [4. 6. 5.]\n",
            " [4. 6. 6.]\n",
            " [5. 1. 1.]\n",
            " [5. 1. 2.]\n",
            " [5. 1. 3.]\n",
            " [5. 1. 4.]\n",
            " [5. 1. 5.]\n",
            " [5. 1. 6.]\n",
            " [5. 2. 1.]\n",
            " [5. 2. 2.]\n",
            " [5. 2. 3.]\n",
            " [5. 2. 4.]\n",
            " [5. 2. 5.]\n",
            " [5. 2. 6.]\n",
            " [5. 3. 1.]\n",
            " [5. 3. 2.]\n",
            " [5. 3. 3.]\n",
            " [5. 3. 4.]\n",
            " [5. 3. 5.]\n",
            " [5. 3. 6.]\n",
            " [5. 4. 1.]\n",
            " [5. 4. 2.]\n",
            " [5. 4. 3.]\n",
            " [5. 4. 4.]\n",
            " [5. 4. 5.]\n",
            " [5. 4. 6.]\n",
            " [5. 5. 1.]\n",
            " [5. 5. 2.]\n",
            " [5. 5. 3.]\n",
            " [5. 5. 4.]\n",
            " [5. 5. 5.]\n",
            " [5. 5. 6.]\n",
            " [5. 6. 1.]\n",
            " [5. 6. 2.]\n",
            " [5. 6. 3.]\n",
            " [5. 6. 4.]\n",
            " [5. 6. 5.]\n",
            " [5. 6. 6.]\n",
            " [6. 1. 1.]\n",
            " [6. 1. 2.]\n",
            " [6. 1. 3.]\n",
            " [6. 1. 4.]\n",
            " [6. 1. 5.]\n",
            " [6. 1. 6.]\n",
            " [6. 2. 1.]\n",
            " [6. 2. 2.]\n",
            " [6. 2. 3.]\n",
            " [6. 2. 4.]\n",
            " [6. 2. 5.]\n",
            " [6. 2. 6.]\n",
            " [6. 3. 1.]\n",
            " [6. 3. 2.]\n",
            " [6. 3. 3.]\n",
            " [6. 3. 4.]\n",
            " [6. 3. 5.]\n",
            " [6. 3. 6.]\n",
            " [6. 4. 1.]\n",
            " [6. 4. 2.]\n",
            " [6. 4. 3.]\n",
            " [6. 4. 4.]\n",
            " [6. 4. 5.]\n",
            " [6. 4. 6.]\n",
            " [6. 5. 1.]\n",
            " [6. 5. 2.]\n",
            " [6. 5. 3.]\n",
            " [6. 5. 4.]\n",
            " [6. 5. 5.]\n",
            " [6. 5. 6.]\n",
            " [6. 6. 1.]\n",
            " [6. 6. 2.]\n",
            " [6. 6. 3.]\n",
            " [6. 6. 4.]\n",
            " [6. 6. 5.]\n",
            " [6. 6. 6.]]\n"
          ],
          "name": "stdout"
        }
      ]
    },
    {
      "cell_type": "markdown",
      "metadata": {
        "id": "GpGCrXVl8ZNq"
      },
      "source": [
        "Associado a cada resultado do experimento, pode-se verificar a soma das faces voltadas para cima e verificar que alguns valores (por exemplo entre 9 e 13) são mais frequentes que outros (por exemplo 3 e 18)"
      ]
    },
    {
      "cell_type": "code",
      "metadata": {
        "colab": {
          "base_uri": "https://localhost:8080/"
        },
        "id": "SFfesBUt5BzK",
        "outputId": "acf32604-d429-470f-ebeb-5bb6457d109b"
      },
      "source": [
        "somafaces = np.sum(resultados,axis=1,dtype=int)\n",
        "print(somafaces)"
      ],
      "execution_count": 4,
      "outputs": [
        {
          "output_type": "stream",
          "text": [
            "[ 3  4  5  6  7  8  4  5  6  7  8  9  5  6  7  8  9 10  6  7  8  9 10 11\n",
            "  7  8  9 10 11 12  8  9 10 11 12 13  4  5  6  7  8  9  5  6  7  8  9 10\n",
            "  6  7  8  9 10 11  7  8  9 10 11 12  8  9 10 11 12 13  9 10 11 12 13 14\n",
            "  5  6  7  8  9 10  6  7  8  9 10 11  7  8  9 10 11 12  8  9 10 11 12 13\n",
            "  9 10 11 12 13 14 10 11 12 13 14 15  6  7  8  9 10 11  7  8  9 10 11 12\n",
            "  8  9 10 11 12 13  9 10 11 12 13 14 10 11 12 13 14 15 11 12 13 14 15 16\n",
            "  7  8  9 10 11 12  8  9 10 11 12 13  9 10 11 12 13 14 10 11 12 13 14 15\n",
            " 11 12 13 14 15 16 12 13 14 15 16 17  8  9 10 11 12 13  9 10 11 12 13 14\n",
            " 10 11 12 13 14 15 11 12 13 14 15 16 12 13 14 15 16 17 13 14 15 16 17 18]\n"
          ],
          "name": "stdout"
        }
      ]
    },
    {
      "cell_type": "code",
      "metadata": {
        "colab": {
          "base_uri": "https://localhost:8080/",
          "height": 278
        },
        "id": "5gz_Dq7a6kzW",
        "outputId": "43e33645-24a6-4db2-e484-1b620638ab7b"
      },
      "source": [
        "probsomafaces = np.zeros(3*nfaces+1)\n",
        "for i in range(len(somafaces)):\n",
        "  probsomafaces[somafaces[i]] = probsomafaces[somafaces[i]] +1\n",
        "probsomafaces = probsomafaces/(nfaces**3)\n",
        "\n",
        "plt.stem( range(len(probsomafaces)),probsomafaces, use_line_collection=True)\n",
        "plt.xlabel('soma das faces')\n",
        "plt.ylabel('probabilidade de ocorrência')\n",
        "plt.xticks(range(len(probsomafaces)))\n",
        "plt.grid('both')"
      ],
      "execution_count": 5,
      "outputs": [
        {
          "output_type": "display_data",
          "data": {
            "image/png": "[encoded data removed]",
            "text/plain": [
              "<Figure size 432x288 with 1 Axes>"
            ]
          },
          "metadata": {
            "tags": [],
            "needs_background": "light"
          }
        }
      ]
    },
    {
      "cell_type": "markdown",
      "metadata": {
        "id": "iDZu_lZg-W4V"
      },
      "source": [
        "Finalmente, o resultado teórico pode ser refutado ou comprovado por uma simulação de Monte Carlo. Para isso, verifica-se a frequência de cada resultado em 50.000 experimentos aleatórios que simulam o jogo descrito"
      ]
    },
    {
      "cell_type": "code",
      "metadata": {
        "id": "IyuDhA6U-yu5"
      },
      "source": [
        "nexperimentos = 50000\n",
        "simulacao = np.zeros(3*nfaces+1)\n",
        "# Para cada experimento\n",
        "for i in range(nexperimentos):\n",
        "#inicializa a soma das faces e realiza três sorteios aleatórios de variáveis \n",
        "#inteiras entre 1 e 6 com distribuição uniforme (dados não viciados). Adiciona \n",
        "#uma ocorrencia no vetor simulacao no resultado da soma sorteada\n",
        "  soma = 0\n",
        "  for j in range(3):\n",
        "    soma = soma + random.randint(1,nfaces)\n",
        "  simulacao[soma] = simulacao[soma] +1\n",
        "#ao final do sorteio, divide o numero de ocorrencias pelo total de experimentos \n",
        "#para verificar a frequência obtida de cada soma  \n",
        "simulacao = simulacao/nexperimentos"
      ],
      "execution_count": 6,
      "outputs": []
    },
    {
      "cell_type": "markdown",
      "metadata": {
        "id": "TSJPXbUWCVJP"
      },
      "source": [
        "Finalmente, pode-se comparar os resultados teóricos e de simulação por meio de um gráfico e observar que os resultados da simulação são muito próximos da previsão"
      ]
    },
    {
      "cell_type": "code",
      "metadata": {
        "colab": {
          "base_uri": "https://localhost:8080/",
          "height": 278
        },
        "id": "70MSb-_JAXYZ",
        "outputId": "fa8ccbce-ad62-4ba0-f787-c661e2c6b959"
      },
      "source": [
        "plt.stem( range(len(probsomafaces)),probsomafaces, use_line_collection=True)\n",
        "plt.scatter( range(len(probsomafaces)),simulacao, c='r')\n",
        "\n",
        "plt.xlabel('soma das faces')\n",
        "plt.ylabel('probabilidade de ocorrência')\n",
        "plt.xticks(range(len(probsomafaces)))\n",
        "plt.grid('both')"
      ],
      "execution_count": 7,
      "outputs": [
        {
          "output_type": "display_data",
          "data": {
            "image/png": "[encoded data removed]",
            "text/plain": [
              "<Figure size 432x288 with 1 Axes>"
            ]
          },
          "metadata": {
            "tags": [],
            "needs_background": "light"
          }
        }
      ]
    }
  ]
}